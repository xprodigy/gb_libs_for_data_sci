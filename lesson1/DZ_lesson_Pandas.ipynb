{
 "cells": [
  {
   "cell_type": "markdown",
   "id": "70118b79",
   "metadata": {},
   "source": [
    "### Lesson Pandas"
   ]
  },
  {
   "cell_type": "code",
   "execution_count": 1,
   "id": "7f9861af",
   "metadata": {},
   "outputs": [],
   "source": [
    "import numpy as np\n",
    "import pandas as pd"
   ]
  },
  {
   "cell_type": "code",
   "execution_count": 2,
   "id": "45fd4cee",
   "metadata": {
    "scrolled": true
   },
   "outputs": [
    {
     "name": "stdout",
     "output_type": "stream",
     "text": [
      "authors    author_id author_name\n",
      "0          1    Тургенев\n",
      "1          2       Чехов\n",
      "2          3  Островский\n",
      "\n",
      " book    author_id            book_title  price\n",
      "0          1           Отцы и дети    450\n",
      "1          1                 Рудин    300\n",
      "2          1     Дворянское гнездо    350\n",
      "3          2      Толстый и тонкий    500\n",
      "4          2       Дама с собачкой    450\n",
      "5          3                 Гроза    370\n",
      "6          3  Таланты и поклонники    290\n",
      "\n",
      " authors_price    author_id author_name            book_title  price\n",
      "0          1    Тургенев           Отцы и дети    450\n",
      "1          1    Тургенев                 Рудин    300\n",
      "2          1    Тургенев     Дворянское гнездо    350\n",
      "3          2       Чехов      Толстый и тонкий    500\n",
      "4          2       Чехов       Дама с собачкой    450\n",
      "5          3  Островский                 Гроза    370\n",
      "6          3  Островский  Таланты и поклонники    290\n",
      "\n",
      " top5    author_id author_name         book_title  price\n",
      "3          2       Чехов   Толстый и тонкий    500\n",
      "0          1    Тургенев        Отцы и дети    450\n",
      "4          2       Чехов    Дама с собачкой    450\n",
      "5          3  Островский              Гроза    370\n",
      "2          1    Тургенев  Дворянское гнездо    350\n",
      "\n",
      " authors_stat             price                 \n",
      "              min  max        mean\n",
      "author_name                       \n",
      "Островский    290  370  330.000000\n",
      "Тургенев      300  450  366.666667\n",
      "Чехов         450  500  475.000000\n"
     ]
    }
   ],
   "source": [
    "authors = pd.DataFrame({\n",
    "    \"author_id\": [1, 2, 3],\n",
    "    \"author_name\": ['Тургенев', 'Чехов', 'Островский']\n",
    "})\n",
    "print ('authors', authors)\n",
    "\n",
    "book = pd.DataFrame({\n",
    "    \"author_id\": [1, 1, 1, 2, 2, 3, 3],\n",
    "    \"book_title\": ['Отцы и дети', 'Рудин', 'Дворянское гнездо', 'Толстый и тонкий', 'Дама с собачкой', 'Гроза', 'Таланты и поклонники'],\n",
    "    \"price\": [450, 300, 350, 500, 450, 370, 290]\n",
    "})\n",
    "print ('\\n book', book)\n",
    "\n",
    "\n",
    "authors_price = pd.merge(authors, book, on='author_id', how='outer')\n",
    "print ('\\n authors_price', authors_price)\n",
    "\n",
    "\n",
    "top5 = authors_price.nlargest(5, \"price\")\n",
    "print ('\\n top5', top5)\n",
    "\n",
    "\n",
    "authors_stat = authors_price.groupby('author_name').agg({'price':['min', 'max', 'mean']})\n",
    "print ('\\n authors_stat', authors_stat)"
   ]
  },
  {
   "cell_type": "code",
   "execution_count": null,
   "id": "85d76cd7",
   "metadata": {},
   "outputs": [],
   "source": [
    "\n"
   ]
  }
 ],
 "metadata": {
  "kernelspec": {
   "display_name": "Python 3 (ipykernel)",
   "language": "python",
   "name": "python3"
  },
  "language_info": {
   "codemirror_mode": {
    "name": "ipython",
    "version": 3
   },
   "file_extension": ".py",
   "mimetype": "text/x-python",
   "name": "python",
   "nbconvert_exporter": "python",
   "pygments_lexer": "ipython3",
   "version": "3.10.4"
  }
 },
 "nbformat": 4,
 "nbformat_minor": 5
}
